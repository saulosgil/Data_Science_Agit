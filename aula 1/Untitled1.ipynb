{
 "cells": [
  {
   "cell_type": "code",
   "execution_count": 21,
   "id": "c088ecce-1fd0-4797-a367-26051c6026f4",
   "metadata": {},
   "outputs": [],
   "source": [
    "peso = 88.8\n",
    "estatura = 1.75"
   ]
  },
  {
   "cell_type": "code",
   "execution_count": 23,
   "id": "874b45ac-2dcb-492d-841f-c3b1f2dad245",
   "metadata": {},
   "outputs": [],
   "source": [
    "def imc(hora):\n",
    "    return hora*60"
   ]
  },
  {
   "cell_type": "code",
   "execution_count": 20,
   "id": "9ecab782-e88e-4b4b-a9d5-7cd5ff72864d",
   "metadata": {},
   "outputs": [
    {
     "data": {
      "text/plain": [
       "120"
      ]
     },
     "execution_count": 20,
     "metadata": {},
     "output_type": "execute_result"
    }
   ],
   "source": [
    "minutos_hora(hora)"
   ]
  }
 ],
 "metadata": {
  "kernelspec": {
   "display_name": "Python 3.10.9",
   "language": "python",
   "name": "python3"
  },
  "language_info": {
   "codemirror_mode": {
    "name": "ipython",
    "version": 3
   },
   "file_extension": ".py",
   "mimetype": "text/x-python",
   "name": "python",
   "nbconvert_exporter": "python",
   "pygments_lexer": "ipython3",
   "version": "3.10.9"
  },
  "vscode": {
   "interpreter": {
    "hash": "9f7905b30e088604f73f345719b79ddd8931a31898d4871b1b46cc0220bd3bb8"
   }
  }
 },
 "nbformat": 4,
 "nbformat_minor": 5
}
