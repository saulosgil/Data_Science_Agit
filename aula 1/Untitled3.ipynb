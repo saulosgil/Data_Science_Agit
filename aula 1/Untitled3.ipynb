{
 "cells": [
  {
   "cell_type": "code",
   "execution_count": 1,
   "id": "b7d3f13a-9073-4d45-9158-0dadf7dabe6f",
   "metadata": {},
   "outputs": [],
   "source": [
    "peso = 90\n",
    "estatura = 1.55"
   ]
  },
  {
   "cell_type": "code",
   "execution_count": 4,
   "id": "41ff658f-cdac-49aa-85f3-54830d6685fc",
   "metadata": {},
   "outputs": [],
   "source": [
    "def calcular_imc(peso, estatura):\n",
    "    peso = float(peso)\n",
    "    estatura = float(estatura)\n",
    "\n",
    "    imc = round(peso / estatura ** 2, 2)\n",
    "    return imc            "
   ]
  },
  {
   "cell_type": "code",
   "execution_count": 5,
   "id": "94dfe719-5efe-4e33-8f1e-ea70374e3758",
   "metadata": {},
   "outputs": [
    {
     "data": {
      "text/plain": [
       "37.46"
      ]
     },
     "execution_count": 5,
     "metadata": {},
     "output_type": "execute_result"
    }
   ],
   "source": [
    "calcular_imc(peso, estatura)"
   ]
  },
  {
   "cell_type": "code",
   "execution_count": 8,
   "id": "43ef8593-806b-4d0d-a5fc-b3938f3ea602",
   "metadata": {},
   "outputs": [],
   "source": [
    "def obesidade(imc):\n",
    "    imc = float(imc)\n",
    "\n",
    "    if imc <= 30:\n",
    "        return('normal')\n",
    "    else:\n",
    "        imc > 30\n",
    "        return('obeso')\n"
   ]
  },
  {
   "cell_type": "code",
   "execution_count": 11,
   "id": "5813d4a3-b6c6-42de-8100-7103defd6027",
   "metadata": {},
   "outputs": [
    {
     "data": {
      "text/plain": [
       "'normal'"
      ]
     },
     "execution_count": 11,
     "metadata": {},
     "output_type": "execute_result"
    }
   ],
   "source": [
    "obesidade(20)"
   ]
  }
 ],
 "metadata": {
  "kernelspec": {
   "display_name": "Python 3.10.9",
   "language": "python",
   "name": "python3"
  },
  "language_info": {
   "codemirror_mode": {
    "name": "ipython",
    "version": 3
   },
   "file_extension": ".py",
   "mimetype": "text/x-python",
   "name": "python",
   "nbconvert_exporter": "python",
   "pygments_lexer": "ipython3",
   "version": "3.10.9"
  },
  "vscode": {
   "interpreter": {
    "hash": "9f7905b30e088604f73f345719b79ddd8931a31898d4871b1b46cc0220bd3bb8"
   }
  }
 },
 "nbformat": 4,
 "nbformat_minor": 5
}
